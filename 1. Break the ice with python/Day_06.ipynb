{
 "cells": [
  {
   "cell_type": "markdown",
   "metadata": {},
   "source": [
    "# Question 18\n",
    "\n",
    "### **Question:**\n",
    "\n",
    "> **_A website requires the users to input username and password to register. Write a program to check the validity of password input by users._**\n",
    "\n",
    "> **_Following are the criteria for checking the password:_**\n",
    "\n",
    "- **_At least 1 letter between [a-z]_**\n",
    "- **_At least 1 number between [0-9]_**\n",
    "- **_At least 1 letter between [A-Z]_**\n",
    "- **_At least 1 character from [$#@]_**\n",
    "- **_Minimum length of transaction password: 6_**\n",
    "- **_Maximum length of transaction password: 12_**\n",
    "\n",
    "> **_Your program should accept a sequence of comma separated passwords and will check them according to the above criteria. Passwords that match the criteria are to be printed, each separated by a comma._**\n",
    "\n",
    "> **_Example_**\n",
    "\n",
    "> **_If the following passwords are given as input to the program:_**\n",
    "\n",
    "\n",
    "ABd1234@1,a F1#,2w3E*,2We3345\n",
    "\n",
    "\n",
    "> **_Then, the output of the program should be:_**\n",
    "\n",
    "\n",
    "ABd1234@1\n",
    "\n",
    "\n",
    "---\n",
    "\n",
    "### Hints:\n",
    "\n",
    "> **_In case of input data being supplied to the question, it should be assumed to be a console input._**\n",
    "\n",
    "---\n",
    "\n",
    "\n",
    "\n",
    "**Solutions:**"
   ]
  },
  {
   "cell_type": "code",
   "execution_count": 18,
   "metadata": {},
   "outputs": [
    {
     "name": "stdin",
     "output_type": "stream",
     "text": [
      " ABd1234@1,a F1#,2w3E*,2We3345,ABd1234@1,a F1#,2w3E*,2We3345\n"
     ]
    },
    {
     "name": "stdout",
     "output_type": "stream",
     "text": [
      "ABd1234@1,ABd1234@1\n"
     ]
    }
   ],
   "source": [
    "import re\n",
    "lst = []\n",
    "tx = input().split(',')\n",
    "for i in tx:\n",
    "    count = 0\n",
    "    count += 6 <= len(i) and len(i) <= 12\n",
    "    count += bool(re.search('[a-z]',i))\n",
    "    count += bool(re.search('[A-Z]',i))\n",
    "    count += bool(re.search('[0-9]',i))\n",
    "    count += bool(re.search('[$#@]',i))\n",
    "    if count ==5:\n",
    "        lst.append(i)\n",
    "print(','.join(lst))"
   ]
  },
  {
   "cell_type": "markdown",
   "metadata": {},
   "source": [
    "**OR**"
   ]
  },
  {
   "cell_type": "markdown",
   "metadata": {},
   "source": [
    "---\n",
    "\n",
    "# Question 19\n",
    "\n",
    "### **Question:**\n",
    "\n",
    "> **_You are required to write a program to sort the (name, age, score) tuples by ascending order where name is string, age and score are numbers. The tuples are input by console. The sort criteria is:_**\n",
    "\n",
    "- **_1: Sort based on name_**\n",
    "- **_2: Then sort based on age_**\n",
    "- **_3: Then sort by score_**\n",
    "\n",
    "> **_The priority is that name > age > score._**\n",
    "\n",
    "> **_If the following tuples are given as input to the program:_**\n",
    "\n",
    "\n",
    "Tom,19,80\n",
    "\n",
    "John,20,90\n",
    "\n",
    "Jony,17,91\n",
    "\n",
    "Jony,17,93\n",
    "\n",
    "Json,21,85\n",
    "\n",
    "\n",
    "> **_Then, the output of the program should be:_**\n",
    "\n",
    "\n",
    "[('John', '20', '90'), ('Jony', '17', '91'), ('Jony', '17', '93'), ('Json', '21', '85'), ('Tom', '19', '80')]\n",
    "\n",
    "\n",
    "---\n",
    "\n",
    "### Hints:\n",
    "\n",
    "> **_In case of input data being supplied to the question, it should be assumed to be a console input.We use itemgetter to enable multiple sort keys._**\n",
    "\n",
    "---\n",
    "\n",
    "\n",
    "\n",
    "**Solutions:**"
   ]
  },
  {
   "cell_type": "code",
   "execution_count": null,
   "metadata": {},
   "outputs": [],
   "source": [
    "\n"
   ]
  }
 ],
 "metadata": {
  "kernelspec": {
   "display_name": "Python 3 (ipykernel)",
   "language": "python",
   "name": "python3"
  },
  "language_info": {
   "codemirror_mode": {
    "name": "ipython",
    "version": 3
   },
   "file_extension": ".py",
   "mimetype": "text/x-python",
   "name": "python",
   "nbconvert_exporter": "python",
   "pygments_lexer": "ipython3",
   "version": "3.11.2"
  }
 },
 "nbformat": 4,
 "nbformat_minor": 4
}
