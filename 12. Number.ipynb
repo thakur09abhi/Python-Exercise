{
 "cells": [
  {
   "cell_type": "markdown",
   "metadata": {},
   "source": [
    "#### 1.  Reverse digits of a number\n",
    "\n",
    "Examples : \n",
    "> Input : 12345   \n",
    "> Output: 54321 \n",
    "\n",
    "> Input : 876   \n",
    "> Output: 678"
   ]
  },
  {
   "cell_type": "markdown",
   "metadata": {},
   "source": [
    "**Iterative**"
   ]
  },
  {
   "cell_type": "code",
   "execution_count": 9,
   "metadata": {},
   "outputs": [
    {
     "name": "stdout",
     "output_type": "stream",
     "text": [
      "The reverse of the given num is : 54321\n"
     ]
    }
   ],
   "source": [
    "def rev_num(num):\n",
    "    result = 0\n",
    "    while num > 0:\n",
    "        result = (result *  10) + (num % 10)\n",
    "        num = num // 10\n",
    "    print('The reverse of the given num is :', result)\n",
    "\n",
    "inp = int(input('Enter the number: '))\n",
    "rev_num(inp)"
   ]
  },
  {
   "cell_type": "markdown",
   "metadata": {},
   "source": [
    "#### 2.   Find the Fibonacci series upto the nth term"
   ]
  },
  {
   "cell_type": "markdown",
   "metadata": {},
   "source": [
    "**Iterative**"
   ]
  },
  {
   "cell_type": "code",
   "execution_count": 17,
   "metadata": {},
   "outputs": [
    {
     "name": "stdout",
     "output_type": "stream",
     "text": [
      "[1, 1, 2, 3, 5]\n"
     ]
    }
   ],
   "source": [
    "def fib(n_term):\n",
    "    result = []\n",
    "    curr = 0\n",
    "    prev = 1\n",
    "    while n_term > 0:\n",
    "        temp = curr\n",
    "        curr += prev \n",
    "        prev = temp\n",
    "        result.append(curr)\n",
    "        n_term -= 1\n",
    "    print(result)\n",
    "\n",
    "inp = int(input('Enter the no. of term: '))\n",
    "fib(inp)"
   ]
  },
  {
   "cell_type": "markdown",
   "metadata": {},
   "source": [
    "#### 3.   Greatest Common Divisor "
   ]
  },
  {
   "cell_type": "markdown",
   "metadata": {},
   "source": [
    "**Iterative**"
   ]
  },
  {
   "cell_type": "code",
   "execution_count": null,
   "metadata": {},
   "outputs": [],
   "source": [
    "a = input('Enter 1st number : ')\n",
    "b = input('Enter 2nd number : ')"
   ]
  }
 ],
 "metadata": {
  "kernelspec": {
   "display_name": "Python 3",
   "language": "python",
   "name": "python3"
  },
  "language_info": {
   "codemirror_mode": {
    "name": "ipython",
    "version": 3
   },
   "file_extension": ".py",
   "mimetype": "text/x-python",
   "name": "python",
   "nbconvert_exporter": "python",
   "pygments_lexer": "ipython3",
   "version": "3.11.2"
  }
 },
 "nbformat": 4,
 "nbformat_minor": 2
}
